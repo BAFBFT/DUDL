{
 "cells": [
  {
   "cell_type": "code",
   "execution_count": 61,
   "id": "3f9114aa",
   "metadata": {},
   "outputs": [],
   "source": [
    "import numpy as np\n",
    "import matplotlib.pyplot as plt\n",
    "import torch\n",
    "import torch.nn as nn\n",
    "\n",
    "import torch.nn.functional as F\n",
    "from torch.utils.data import DataLoader, TensorDataset\n",
    "from sklearn.model_selection import train_test_split\n",
    "from typing import List"
   ]
  },
  {
   "cell_type": "markdown",
   "id": "85a376c8",
   "metadata": {},
   "source": [
    "# Project Description\n",
    "This is a FFN trained to add integers from -10 to + 10"
   ]
  },
  {
   "cell_type": "code",
   "execution_count": 15,
   "id": "57574571",
   "metadata": {},
   "outputs": [
    {
     "name": "stdout",
     "output_type": "stream",
     "text": [
      "GPU: NVIDIA GeForce GTX 1660 Ti with Max-Q Design is available.\n"
     ]
    }
   ],
   "source": [
    "if torch.cuda.is_available():\n",
    "    print(f\"GPU: {torch.cuda.get_device_name(0)} is available.\")\n",
    "else:\n",
    "    print(\"No GPU available. Training will run on CPU.\")"
   ]
  },
  {
   "cell_type": "code",
   "execution_count": 96,
   "id": "2b6bcce8",
   "metadata": {},
   "outputs": [],
   "source": [
    "# create the dataset\n",
    "N = 10000\n",
    "torch.manual_seed(42)\n",
    "\n",
    "nums_1 = torch.randint(-10, 11, (N,1), dtype=torch.float32)\n",
    "nums_2 = torch.randint(-10, 11, (N,1), dtype=torch.float32)\n",
    "\n",
    "target = nums_1 + nums_2"
   ]
  },
  {
   "cell_type": "code",
   "execution_count": 97,
   "id": "df203766",
   "metadata": {},
   "outputs": [],
   "source": [
    "# Concatenate along columns (dim=1)\n",
    "features = torch.cat((nums_1, nums_2), dim=1)\n",
    "\n",
    "train_data,test_data, train_labels,test_labels = train_test_split(features, target, test_size=.2)\n",
    "\n",
    "# then convert them into PyTorch Datasets (note: already converted to tensors)\n",
    "train_data = TensorDataset(train_data,train_labels)\n",
    "test_data  = TensorDataset(test_data,test_labels)\n",
    "\n",
    "# finally, translate into dataloader objects\n",
    "batchsize    = 16\n",
    "train_loader = DataLoader(train_data,batch_size=batchsize,shuffle=True,drop_last=True)\n",
    "test_loader  = DataLoader(test_data,batch_size=test_data.tensors[0].shape[0])"
   ]
  },
  {
   "cell_type": "code",
   "execution_count": 114,
   "id": "c8f9ef35",
   "metadata": {},
   "outputs": [
    {
     "data": {
      "text/plain": [
       "2000"
      ]
     },
     "execution_count": 114,
     "metadata": {},
     "output_type": "execute_result"
    }
   ],
   "source": [
    "test_data.tensors[0].shape[0]"
   ]
  },
  {
   "cell_type": "code",
   "execution_count": 98,
   "id": "bd95084d",
   "metadata": {},
   "outputs": [],
   "source": [
    "class addMachine(nn.Module):\n",
    "  def __init__(self):\n",
    "    super().__init__()\n",
    "\n",
    "    ### input layer\n",
    "    self.input = nn.Linear(2,16)\n",
    "\n",
    "    ### hidden layers\n",
    "    self.fc1 = nn.Linear(16,32)\n",
    "    self.fc2 = nn.Linear(32,32)\n",
    "\n",
    "    ### output layer\n",
    "    self.output = nn.Linear(32,1)\n",
    "\n",
    "  def forward(self,x):\n",
    "    x = F.relu( self.input(x) )\n",
    "    x = F.relu( self.fc1(x) )\n",
    "    x = F.relu( self.fc2(x) )\n",
    "    return self.output(x)"
   ]
  },
  {
   "cell_type": "code",
   "execution_count": null,
   "id": "05ebab04",
   "metadata": {},
   "outputs": [
    {
     "name": "stdout",
     "output_type": "stream",
     "text": [
      "[tensor([[ -8.,  -1.],\n",
      "        [ -8.,  -3.],\n",
      "        [  2.,  -1.],\n",
      "        [  0.,   9.],\n",
      "        [  2.,  -1.],\n",
      "        [ -4.,  -4.],\n",
      "        [  0.,   5.],\n",
      "        [ -4.,  -6.],\n",
      "        [  7.,   4.],\n",
      "        [  7.,   8.],\n",
      "        [  6.,  -8.],\n",
      "        [  3.,  -7.],\n",
      "        [  7.,  10.],\n",
      "        [  2.,   5.],\n",
      "        [  6.,  -1.],\n",
      "        [-10.,   7.]]), tensor([[ -9.],\n",
      "        [-11.],\n",
      "        [  1.],\n",
      "        [  9.],\n",
      "        [  1.],\n",
      "        [ -8.],\n",
      "        [  5.],\n",
      "        [-10.],\n",
      "        [ 11.],\n",
      "        [ 15.],\n",
      "        [ -2.],\n",
      "        [ -4.],\n",
      "        [ 17.],\n",
      "        [  7.],\n",
      "        [  5.],\n",
      "        [ -3.]])]\n"
     ]
    },
    {
     "data": {
      "text/plain": [
       "tensor([[-0.0527],\n",
       "        [ 0.0109],\n",
       "        [-0.1462],\n",
       "        [-0.1250],\n",
       "        [-0.1462],\n",
       "        [-0.0765],\n",
       "        [-0.1544],\n",
       "        [-0.0379],\n",
       "        [-0.0594],\n",
       "        [-0.0813],\n",
       "        [-0.1147],\n",
       "        [-0.1323],\n",
       "        [-0.0740],\n",
       "        [-0.1420],\n",
       "        [-0.0435],\n",
       "        [-0.1801]], grad_fn=<AddmmBackward0>)"
      ]
     },
     "execution_count": 107,
     "metadata": {},
     "output_type": "execute_result"
    }
   ],
   "source": [
    "#test model on some data from the train_loader\n",
    "littleData = next(iter(train_loader))\n",
    "\n",
    "model = addMachine()\n",
    "\n",
    "print(littleData)\n",
    "model(littleData[0])"
   ]
  },
  {
   "cell_type": "code",
   "execution_count": 113,
   "id": "61458365",
   "metadata": {},
   "outputs": [
    {
     "name": "stdout",
     "output_type": "stream",
     "text": [
      "tensor([[-5.,  4.],\n",
      "        [-2.,  3.],\n",
      "        [ 0.,  1.],\n",
      "        [-1., -6.],\n",
      "        [-9., 10.],\n",
      "        [10.,  9.],\n",
      "        [ 8., -9.],\n",
      "        [ 7.,  4.],\n",
      "        [-9., -6.],\n",
      "        [-6.,  4.],\n",
      "        [-2.,  4.],\n",
      "        [ 0.,  9.],\n",
      "        [ 2., 10.],\n",
      "        [ 2., -5.],\n",
      "        [10., 10.],\n",
      "        [10., -4.]]) tensor([[ -1.],\n",
      "        [  1.],\n",
      "        [  1.],\n",
      "        [ -7.],\n",
      "        [  1.],\n",
      "        [ 19.],\n",
      "        [ -1.],\n",
      "        [ 11.],\n",
      "        [-15.],\n",
      "        [ -2.],\n",
      "        [  2.],\n",
      "        [  9.],\n",
      "        [ 12.],\n",
      "        [ -3.],\n",
      "        [ 20.],\n",
      "        [  6.]])\n"
     ]
    }
   ],
   "source": [
    "for X,y in train_loader:\n",
    "    print(X,y)\n",
    "    break"
   ]
  },
  {
   "cell_type": "code",
   "execution_count": 115,
   "id": "147c063b",
   "metadata": {},
   "outputs": [],
   "source": [
    "# train the model\n",
    "\n",
    "# global parameter\n",
    "numepochs = 1000\n",
    "\n",
    "def trainTheModel(train_loader, test_loader, model):\n",
    "\n",
    "  # loss function and optimizer\n",
    "  lossfun = nn.MSELoss()\n",
    "  optimizer = torch.optim.Adam(model.parameters(),lr=.001)\n",
    "\n",
    "  #losses\n",
    "  trainLoss = torch.zeros(numepochs)\n",
    "  testLoss  = torch.zeros(numepochs)\n",
    "\n",
    "  for epochi in range(numepochs):\n",
    "\n",
    "    # switch on training mode\n",
    "    model.train()\n",
    "\n",
    "    # loop over training data batches\n",
    "    batchLoss = []\n",
    "    for X,y in train_loader:\n",
    "\n",
    "      # forward pass and loss\n",
    "      yHat = model(X)\n",
    "      loss = lossfun(yHat,y)\n",
    "\n",
    "      # backprop\n",
    "      optimizer.zero_grad()\n",
    "      loss.backward()\n",
    "      optimizer.step()\n",
    "\n",
    "      # loss from this batch\n",
    "      batchLoss.append(loss.item())\n",
    "    # end of batch loop...\n",
    "\n",
    "    # and get average losses across the batches\n",
    "    trainLoss[epochi] = np.mean(batchLoss)\n",
    "\n",
    "    # test accuracy\n",
    "    model.eval()\n",
    "    X,y = next(iter(test_loader)) # extract X,y from test dataloader\n",
    "    with torch.no_grad(): # deactivates autograd\n",
    "      yHat = model(X)\n",
    "    testLoss[epochi] = lossfun(yHat, y)\n",
    "\n",
    "  # function output\n",
    "  return trainLoss, testLoss"
   ]
  },
  {
   "cell_type": "code",
   "execution_count": null,
   "id": "a09f538c",
   "metadata": {},
   "outputs": [],
   "source": [
    "addition_model = addMachine()"
   ]
  }
 ],
 "metadata": {
  "kernelspec": {
   "display_name": "DUDL",
   "language": "python",
   "name": "python3"
  },
  "language_info": {
   "codemirror_mode": {
    "name": "ipython",
    "version": 3
   },
   "file_extension": ".py",
   "mimetype": "text/x-python",
   "name": "python",
   "nbconvert_exporter": "python",
   "pygments_lexer": "ipython3",
   "version": "3.10.18"
  }
 },
 "nbformat": 4,
 "nbformat_minor": 5
}
