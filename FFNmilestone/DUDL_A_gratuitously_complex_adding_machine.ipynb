{
 "cells": [
  {
   "cell_type": "code",
   "execution_count": 61,
   "id": "3f9114aa",
   "metadata": {},
   "outputs": [],
   "source": [
    "import numpy as np\n",
    "import matplotlib.pyplot as plt\n",
    "import torch\n",
    "import torch.nn as nn\n",
    "\n",
    "import torch.nn.functional as F\n",
    "from torch.utils.data import DataLoader, TensorDataset\n",
    "from sklearn.model_selection import train_test_split\n",
    "from typing import List"
   ]
  },
  {
   "cell_type": "markdown",
   "id": "85a376c8",
   "metadata": {},
   "source": [
    "# Project Description\n",
    "This is a FFN trained to add integers from -10 to + 10"
   ]
  },
  {
   "cell_type": "code",
   "execution_count": 15,
   "id": "57574571",
   "metadata": {},
   "outputs": [
    {
     "name": "stdout",
     "output_type": "stream",
     "text": [
      "GPU: NVIDIA GeForce GTX 1660 Ti with Max-Q Design is available.\n"
     ]
    }
   ],
   "source": [
    "if torch.cuda.is_available():\n",
    "    print(f\"GPU: {torch.cuda.get_device_name(0)} is available.\")\n",
    "else:\n",
    "    print(\"No GPU available. Training will run on CPU.\")"
   ]
  },
  {
   "cell_type": "code",
   "execution_count": 94,
   "id": "2b6bcce8",
   "metadata": {},
   "outputs": [],
   "source": [
    "# create the dataset\n",
    "N = 10000\n",
    "torch.manual_seed(42)\n",
    "\n",
    "nums_1 = torch.randint(-10, 11, (N,1), dtype=torch.float32)\n",
    "nums_2 = torch.randint(-10, 11, (N,1), dtype=torch.float32)\n",
    "\n",
    "target = nums_1 + nums_2"
   ]
  },
  {
   "cell_type": "code",
   "execution_count": 95,
   "id": "df203766",
   "metadata": {},
   "outputs": [],
   "source": [
    "# Concatenate along columns (dim=1)\n",
    "features = torch.cat((nums_1, nums_2), dim=1)\n",
    "\n",
    "train_data,test_data, train_labels,test_labels = train_test_split(features, target, test_size=.2)\n",
    "\n",
    "# then convert them into PyTorch Datasets (note: already converted to tensors)\n",
    "train_data = TensorDataset(train_data,train_labels)\n",
    "test_data  = TensorDataset(test_data,test_labels)\n",
    "\n",
    "# finally, translate into dataloader objects\n",
    "batchsize    = 16\n",
    "train_loader = DataLoader(train_data,batch_size=batchsize,shuffle=True,drop_last=True)\n",
    "test_loader  = DataLoader(test_data,batch_size=test_data.tensors[0].shape[0])"
   ]
  },
  {
   "cell_type": "code",
   "execution_count": 63,
   "id": "bd95084d",
   "metadata": {},
   "outputs": [],
   "source": [
    "class addMachine(nn.Module):\n",
    "  def __init__(self):\n",
    "    super().__init__()\n",
    "\n",
    "    ### input layer\n",
    "    self.input = nn.Linear(2,16)\n",
    "\n",
    "    ### hidden layers\n",
    "    self.fc1 = nn.Linear(16,32)\n",
    "    self.fc2 = nn.Linear(32,32)\n",
    "\n",
    "    ### output layer\n",
    "    self.output = nn.Linear(32,1)\n",
    "\n",
    "  # forward pass\n",
    "  def forward(self,x):\n",
    "    x = F.relu( self.input(x) )\n",
    "    x = F.relu( self.fc1(x) )\n",
    "    x = F.relu( self.fc2(x) )\n",
    "    return self.output(x)"
   ]
  },
  {
   "cell_type": "code",
   "execution_count": 93,
   "id": "05ebab04",
   "metadata": {},
   "outputs": [
    {
     "name": "stdout",
     "output_type": "stream",
     "text": [
      "tensor([[  7., -10.]])\n"
     ]
    },
    {
     "data": {
      "text/plain": [
       "tensor([[0.3677]], grad_fn=<AddmmBackward0>)"
      ]
     },
     "execution_count": 93,
     "metadata": {},
     "output_type": "execute_result"
    }
   ],
   "source": [
    "model = addMachine()\n",
    "test_pass = torch.randint(-10, 11, (1,2), dtype=torch.float32)\n",
    "print(test_pass)\n",
    "model(test_pass)"
   ]
  },
  {
   "cell_type": "code",
   "execution_count": null,
   "id": "147c063b",
   "metadata": {},
   "outputs": [],
   "source": []
  }
 ],
 "metadata": {
  "kernelspec": {
   "display_name": "DUDL",
   "language": "python",
   "name": "python3"
  },
  "language_info": {
   "codemirror_mode": {
    "name": "ipython",
    "version": 3
   },
   "file_extension": ".py",
   "mimetype": "text/x-python",
   "name": "python",
   "nbconvert_exporter": "python",
   "pygments_lexer": "ipython3",
   "version": "3.10.18"
  }
 },
 "nbformat": 4,
 "nbformat_minor": 5
}
