{
 "cells": [
  {
   "cell_type": "code",
   "execution_count": 18,
   "id": "3f9114aa",
   "metadata": {},
   "outputs": [],
   "source": [
    "import numpy as np\n",
    "import matplotlib.pyplot as plt\n",
    "import torch\n",
    "import torch.nn as nn\n",
    "import torch.optim as optim\n",
    "from typing import List"
   ]
  },
  {
   "cell_type": "code",
   "execution_count": 15,
   "id": "57574571",
   "metadata": {},
   "outputs": [
    {
     "name": "stdout",
     "output_type": "stream",
     "text": [
      "GPU: NVIDIA GeForce GTX 1660 Ti with Max-Q Design is available.\n"
     ]
    }
   ],
   "source": [
    "if torch.cuda.is_available():\n",
    "    print(f\"GPU: {torch.cuda.get_device_name(0)} is available.\")\n",
    "else:\n",
    "    print(\"No GPU available. Training will run on CPU.\")"
   ]
  },
  {
   "cell_type": "code",
   "execution_count": 19,
   "id": "c35f5cd3",
   "metadata": {},
   "outputs": [
    {
     "name": "stdout",
     "output_type": "stream",
     "text": [
      "Using device: cuda\n",
      "Device name: NVIDIA GeForce GTX 1660 Ti with Max-Q Design\n",
      "Memory allocated: 0.0 MB\n",
      "Memory cached:    0.0 MB\n",
      "Training step completed successfully on cuda\n"
     ]
    }
   ],
   "source": [
    "# Check if CUDA is available\n",
    "device = torch.device(\"cuda\" if torch.cuda.is_available() else \"cpu\")\n",
    "print(\"Using device:\", device)\n",
    "if device.type == \"cuda\":\n",
    "    print(\"Device name:\", torch.cuda.get_device_name(0))\n",
    "    print(\"Memory allocated:\", round(torch.cuda.memory_allocated(0)/1024**2, 1), \"MB\")\n",
    "    print(\"Memory cached:   \", round(torch.cuda.memory_reserved(0)/1024**2, 1), \"MB\")\n",
    "\n",
    "# A simple test model\n",
    "model = nn.Sequential(\n",
    "    nn.Linear(100, 50),\n",
    "    nn.ReLU(),\n",
    "    nn.Linear(50, 10)\n",
    ").to(device)\n",
    "\n",
    "# Dummy data\n",
    "x = torch.randn(64, 100).to(device)\n",
    "y = torch.randint(0, 10, (64,)).to(device)\n",
    "\n",
    "# Loss and optimizer\n",
    "criterion = nn.CrossEntropyLoss()\n",
    "optimizer = optim.Adam(model.parameters())\n",
    "\n",
    "# One training step\n",
    "outputs = model(x)\n",
    "loss = criterion(outputs, y)\n",
    "loss.backward()\n",
    "optimizer.step()\n",
    "\n",
    "print(\"Training step completed successfully on\", device)\n"
   ]
  }
 ],
 "metadata": {
  "kernelspec": {
   "display_name": "DUDL",
   "language": "python",
   "name": "python3"
  },
  "language_info": {
   "codemirror_mode": {
    "name": "ipython",
    "version": 3
   },
   "file_extension": ".py",
   "mimetype": "text/x-python",
   "name": "python",
   "nbconvert_exporter": "python",
   "pygments_lexer": "ipython3",
   "version": "3.10.18"
  }
 },
 "nbformat": 4,
 "nbformat_minor": 5
}
