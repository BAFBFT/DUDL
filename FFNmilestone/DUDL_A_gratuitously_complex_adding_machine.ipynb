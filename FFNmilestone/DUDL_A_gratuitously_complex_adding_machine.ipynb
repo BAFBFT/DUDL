{
 "cells": [
  {
   "cell_type": "code",
   "execution_count": 34,
   "id": "3f9114aa",
   "metadata": {},
   "outputs": [],
   "source": [
    "import numpy as np\n",
    "import matplotlib.pyplot as plt\n",
    "import torch\n",
    "import torch.nn as nn\n",
    "\n",
    "from torch.utils.data import DataLoader\n",
    "from sklearn.model_selection import train_test_split\n",
    "from typing import List"
   ]
  },
  {
   "cell_type": "markdown",
   "id": "85a376c8",
   "metadata": {},
   "source": [
    "# Project Description\n",
    "This is a FFN trained to add integers from -10 to + 10"
   ]
  },
  {
   "cell_type": "code",
   "execution_count": 15,
   "id": "57574571",
   "metadata": {},
   "outputs": [
    {
     "name": "stdout",
     "output_type": "stream",
     "text": [
      "GPU: NVIDIA GeForce GTX 1660 Ti with Max-Q Design is available.\n"
     ]
    }
   ],
   "source": [
    "if torch.cuda.is_available():\n",
    "    print(f\"GPU: {torch.cuda.get_device_name(0)} is available.\")\n",
    "else:\n",
    "    print(\"No GPU available. Training will run on CPU.\")"
   ]
  },
  {
   "cell_type": "code",
   "execution_count": 33,
   "id": "2b6bcce8",
   "metadata": {},
   "outputs": [],
   "source": [
    "# create the dataset\n",
    "N = 10-000\n",
    "torch.manual_seed(42)\n",
    "nums_1 = torch.randint(-10, 11, (N,))\n",
    "nums_2 = torch.randint(-10, 11, (N,))\n",
    "addition = nums_1 + nums_2"
   ]
  },
  {
   "cell_type": "code",
   "execution_count": null,
   "id": "df203766",
   "metadata": {},
   "outputs": [
    {
     "data": {
      "text/plain": [
       "tensor(20)"
      ]
     },
     "execution_count": 31,
     "metadata": {},
     "output_type": "execute_result"
    }
   ],
   "source": [
    "max(addition) "
   ]
  }
 ],
 "metadata": {
  "kernelspec": {
   "display_name": "DUDL",
   "language": "python",
   "name": "python3"
  },
  "language_info": {
   "codemirror_mode": {
    "name": "ipython",
    "version": 3
   },
   "file_extension": ".py",
   "mimetype": "text/x-python",
   "name": "python",
   "nbconvert_exporter": "python",
   "pygments_lexer": "ipython3",
   "version": "3.10.18"
  }
 },
 "nbformat": 4,
 "nbformat_minor": 5
}
